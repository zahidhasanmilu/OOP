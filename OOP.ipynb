{
 "cells": [
  {
   "cell_type": "code",
   "execution_count": 20,
   "metadata": {},
   "outputs": [
    {
     "name": "stdout",
     "output_type": "stream",
     "text": [
      "Name:zahid , Profession:Footballer, Age:33, Address:Nikunja 2, Dhaka\n",
      "Name:  zahid\n"
     ]
    }
   ],
   "source": [
    "class Student:\n",
    "\n",
    "    def __init__(self, name, profession, age, address):\n",
    "        # instance Variable  (Object Depandend)\n",
    "        self.name = name\n",
    "        # instance Variable  (Object Depandend)\n",
    "        self.profession = profession\n",
    "        # instance Variable  (Object Depandend)\n",
    "        self.age = age\n",
    "        # instance Variable  (Object Depandend)\n",
    "        self.address = address\n",
    "\n",
    "\n",
    "a = Student('zahid', 'Footballer', 27, 'Nikunja 2, Dhaka')\n",
    "a.age = 33\n",
    "print(\n",
    "    f'Name:{a.name} , Profession:{a.profession}, Age:{a.age}, Address:{a.address}')"
   ]
  },
  {
   "cell_type": "code",
   "execution_count": 22,
   "metadata": {},
   "outputs": [
    {
     "name": "stdout",
     "output_type": "stream",
     "text": [
      "Name:zahid , Profession:Footballer, Age:27, Address:Nikunja 2, Dhaka\n",
      "Name:  zahid\n"
     ]
    }
   ],
   "source": [
    "# L5 OOP\n",
    "class Student:\n",
    "\n",
    "    def __init__(self, name, profession, age, address):\n",
    "        self.name = name                # instance Variable  (Object Depandend)\n",
    "        self.profession = profession    # instance Variable  (Object Depandend)\n",
    "        self.age = age                  # instance Variable  (Object Depandend)\n",
    "        self.address = address          # instance Variable  (Object Depandend)\n",
    "\n",
    "    def details(self):                  # instance Method    (Object Depandend)\n",
    "        print(\"Name: \", self.name)\n",
    "\n",
    "\n",
    "a = Student('zahid', 'Footballer', 27, 'Nikunja 2, Dhaka')\n",
    "print(\n",
    "    f'Name:{a.name} , Profession:{a.profession}, Age:{a.age}, Address:{a.address}')\n",
    "\n",
    "# Print details\n",
    "a = a.details()"
   ]
  },
  {
   "cell_type": "code",
   "execution_count": 12,
   "metadata": {},
   "outputs": [
    {
     "name": "stdout",
     "output_type": "stream",
     "text": [
      "##################   student 1   #########################\n",
      "Name: Zahid ,Age: 10\n",
      "Name: Zahid Hasan Milu ,Age: 10\n",
      "\n",
      "##################   student 2   #########################\n",
      "Name: Tomalika ,Age: 20\n",
      "Name: Tomalika ,Age: 22\n"
     ]
    }
   ],
   "source": [
    "class Student:\n",
    "\n",
    "    def __init__(self, name, age):\n",
    "        self.name = name                # instance Variable  (Object Depandend)\n",
    "        self.age = age                  # instance Variable  (Object Depandend)\n",
    "\n",
    "    def details(self):                  # instance Method    (Object Depandend)\n",
    "        print(\"Name:\", self.name, \",\" \"Age:\", self.age)\n",
    "\n",
    "\n",
    "print(\"##################   student 1   #########################\")\n",
    "s1 = Student(\"Zahid\", 10)\n",
    "s1.details()\n",
    "\n",
    "s1.name = \"Zahid Hasan Milu\"\n",
    "s1.details()\n",
    "\n",
    "print(\"\")\n",
    "print(\"##################   student 2   #########################\")\n",
    "s2 = Student(\"Tomalika\", 20)\n",
    "s2.details()\n",
    "\n",
    "s2.age = 22\n",
    "s2.details()"
   ]
  },
  {
   "cell_type": "code",
   "execution_count": 29,
   "metadata": {},
   "outputs": [
    {
     "name": "stdout",
     "output_type": "stream",
     "text": [
      "6 Windows 2 Doors\n",
      "4 Windows 2 Doors\n"
     ]
    }
   ],
   "source": [
    "# L6\n",
    "# Instance Variable Example 2\n",
    "# How to work Instance Variable and Instance Method in class\n",
    "\n",
    "class House:\n",
    "    def __init__(self):\n",
    "        self.window = 4  # instance Variable\n",
    "        self.door = 2  # instance Variable\n",
    "\n",
    "    def view(self):  # Instance Method\n",
    "        print(self.window, \"Windows\", self.door, \"Doors\")\n",
    "\n",
    "\n",
    "house2 = House()\n",
    "house1 = House()\n",
    "house1.window = 6\n",
    "\n",
    "house1.view()\n",
    "house2.view()"
   ]
  },
  {
   "cell_type": "code",
   "execution_count": 7,
   "metadata": {},
   "outputs": [
    {
     "name": "stdout",
     "output_type": "stream",
     "text": [
      "Name: BMW, Color: Black, Price: 10000, Year: 1990\n",
      "Your needed Cars 2, And \n",
      "Your Total AmountPrice20000\n"
     ]
    }
   ],
   "source": [
    "class Car:\n",
    "    def __init__(self, name, color, price, year):\n",
    "        self.name = name\n",
    "        self.color = color\n",
    "        self.price = price\n",
    "        self.year = year\n",
    "        print(f'Name: {self.name}, Color: {self.color}, Price: {self.price}, Year: {self.year}')\n",
    "        \n",
    "    def price_by_quantity(self, quantity):\n",
    "        self.price = self.price * quantity\n",
    "        print(f\"Your needed Cars {quantity}, And \\nYour Total Amount Price is {self.price}\")\n",
    "        \n",
    "        \n",
    "        \n",
    "        \n",
    "c1 = Car('BMW', \"Black\", 10000, 1990)\n",
    "c1.price_by_quantity(2)"
   ]
  },
  {
   "cell_type": "code",
   "execution_count": 3,
   "metadata": {},
   "outputs": [
    {
     "name": "stdout",
     "output_type": "stream",
     "text": [
      "Color: black\n",
      "Year: 100\n",
      "Club Name : Barca , Jersey_Color :  black , Year :  100\n"
     ]
    }
   ],
   "source": [
    "class Jersey:\n",
    "    def __init__(self, club_name, color):\n",
    "        self.club_name = club_name\n",
    "        self.color = color\n",
    "        self.year = 4\n",
    "\n",
    "    def update_color(self, c):\n",
    "        self.color = c\n",
    "        print(\"Color:\", self.color)\n",
    "\n",
    "    def update_year(self, y):\n",
    "        self.year = y\n",
    "        print(\"Year:\", self.year)\n",
    "\n",
    "    def view(self):\n",
    "        print('Club Name :', self.club_name, \",\", \"Jersey_Color : \",\n",
    "              self.color, \",\", \"Year : \", self.year)\n",
    "\n",
    "\n",
    "j1 = Jersey('Barca', 'Meroon')\n",
    "j2 = Jersey('Madrid', 'White')\n",
    "\n",
    "j1.update_color(\"black\")\n",
    "j1.update_year(100)\n",
    "j1.view()"
   ]
  },
  {
   "cell_type": "code",
   "execution_count": 63,
   "metadata": {},
   "outputs": [
    {
     "name": "stdout",
     "output_type": "stream",
     "text": [
      "color:  Black Name:  tommy\n",
      "['__class__', '__delattr__', '__dict__', '__dir__', '__doc__', '__eq__', '__format__', '__ge__', '__getattribute__', '__gt__', '__hash__', '__init__', '__init_subclass__', '__le__', '__lt__', '__module__', '__ne__', '__new__', '__reduce__', '__reduce_ex__', '__repr__', '__setattr__', '__sizeof__', '__str__', '__subclasshook__', '__weakref__', 'color', 'name', 'update_color', 'view']\n"
     ]
    }
   ],
   "source": [
    "class Dog:\n",
    "    def __init__(self, name, color):\n",
    "        self.name = name\n",
    "        self.color = color\n",
    "\n",
    "    def update_color(self, color):\n",
    "        self.color = color\n",
    "\n",
    "    def view(self):\n",
    "        print(\"color: \", self.color, \"Name: \", self.name)\n",
    "\n",
    "\n",
    "d1 = Dog('tommy', 'white')\n",
    "\n",
    "d1.update_color(\"Black\")\n",
    "d1.view()\n",
    "d1.__dict__\n",
    "print(dir(d1))"
   ]
  },
  {
   "cell_type": "code",
   "execution_count": 117,
   "metadata": {},
   "outputs": [
    {
     "name": "stdout",
     "output_type": "stream",
     "text": [
      "0\n",
      "Arafat\n",
      "Book Name:  Opekkha Author:  Arafat Book Price:  0\n",
      "Book Name:  Opekkha Author:  Arafat Book Price:  1000\n"
     ]
    }
   ],
   "source": [
    "class Book:\n",
    "    def __init__(self, name, author):\n",
    "        self.name = name\n",
    "        self.author = author\n",
    "        self.price = 0\n",
    "\n",
    "    def set_author(self, author):\n",
    "        self.author = author\n",
    "\n",
    "    def set_price(self, prices):\n",
    "        self.price = prices\n",
    "\n",
    "    def get_price(self):\n",
    "        print(self.price)\n",
    "\n",
    "    def view(self):\n",
    "        print(\n",
    "            \"Book Name: \", self.name,\n",
    "            \"Author: \", self.author,\n",
    "            \"Book Price: \", self.price,\n",
    "        )\n",
    "\n",
    "\n",
    "b1 = Book(\"Opekkha\", \"Humayen Ahmed\")\n",
    "b1.set_author(\"Arafat\")\n",
    "b1.get_price()\n",
    "print(b1.author)\n",
    "b1.view()\n",
    "\n",
    "b1.set_price(1000)\n",
    "b1.view()"
   ]
  },
  {
   "cell_type": "code",
   "execution_count": 116,
   "metadata": {},
   "outputs": [
    {
     "data": {
      "text/plain": [
       "{'name': 'Opekkha', 'author': 'Zahid hasan Milu', 'price': 90}"
      ]
     },
     "execution_count": 116,
     "metadata": {},
     "output_type": "execute_result"
    }
   ],
   "source": [
    "# Design Of Book\n",
    "class Book:\n",
    "    def __init__(self, name, author):\n",
    "        self.name = name\n",
    "        self.author = author\n",
    "        self.price = 0\n",
    "\n",
    "    def set_price(self, prices):\n",
    "        self.price = prices\n",
    "\n",
    "    def get_price(self):\n",
    "        print(self.price)\n",
    "\n",
    "    def set_author(self, author):\n",
    "        self.author = author\n",
    "\n",
    "    def view(self):\n",
    "        print(\n",
    "            \"Book Name:\", self.name, \",\",\n",
    "            \"Book author:\", self.author, \",\",\n",
    "            \"Book price:\", self.price,\n",
    "\n",
    "        )\n",
    "\n",
    "\n",
    "b1.__dict__"
   ]
  },
  {
   "cell_type": "code",
   "execution_count": 105,
   "metadata": {},
   "outputs": [
    {
     "name": "stdout",
     "output_type": "stream",
     "text": [
      "White Cat is  Jumping\n",
      "Brown Cat is  Sitting\n",
      "They are different\n"
     ]
    }
   ],
   "source": [
    "class Cat:\n",
    "    def __init__(self, color, action):\n",
    "        self.color = color\n",
    "        self.action = action\n",
    "\n",
    "    def view(self):\n",
    "        print(self.color, \"Cat is \", self.action)\n",
    "\n",
    "    def compair(self, ct):\n",
    "        if self.action == ct.action:\n",
    "            print(\"Both cats are\", self.action)\n",
    "        else:\n",
    "            print(\"They are different\")\n",
    "\n",
    "\n",
    "###################################\n",
    "c1 = Cat(\"White\", \"Jumping\")\n",
    "c2 = Cat(\"Brown\", \"Sitting\")\n",
    "c1.view()\n",
    "c2.view()\n",
    "c1.compair(c2)"
   ]
  },
  {
   "cell_type": "code",
   "execution_count": 114,
   "metadata": {},
   "outputs": [
    {
     "name": "stdout",
     "output_type": "stream",
     "text": [
      "Name: Zahid, Height:5.8, Age:27\n",
      "Name: Hasan, Height:5.1, Age:22\n",
      "Name: Milu, Height:5.8, Age:27\n",
      "all are differnts\n"
     ]
    }
   ],
   "source": [
    "class Human:\n",
    "    def __init__(self, name, height, age):\n",
    "        self.name = name\n",
    "        self.height = height\n",
    "        self.age = age\n",
    "\n",
    "    def view(self):\n",
    "        print(f\"Name: {self.name}, Height:{self.height}, Age:{self.age}\")\n",
    "\n",
    "    def compair(self, human):\n",
    "\n",
    "        if self.name == human.name:\n",
    "            print(f\"Name are same {self.name}\")\n",
    "        elif self.height == human.height:\n",
    "            print(f\"Height are same {self.height}\")\n",
    "        elif self.age == human.age:\n",
    "            print(f\"Age are same {self.age}\")\n",
    "        else:\n",
    "            print(\"all are differnts\")\n",
    "\n",
    "\n",
    "h1 = Human('Zahid', 5.8, 27)\n",
    "h2 = Human('Hasan', 5.10, 22)\n",
    "h3 = Human('Milu', 5.8, 27)\n",
    "h1.view()\n",
    "h2.view()\n",
    "h3.view()\n",
    "\n",
    "h1.compair(h2)"
   ]
  },
  {
   "cell_type": "code",
   "execution_count": 124,
   "metadata": {},
   "outputs": [
    {
     "name": "stdout",
     "output_type": "stream",
     "text": [
      "Processo:i5, RAM:8GB, SSD:120GB, Price:6000\n",
      "Processo:i7, RAM:16GB, SSD:256GB, Price:7000\n",
      "All are differnt!\n"
     ]
    }
   ],
   "source": [
    "class Computer:\n",
    "    def __init__(self, processor, ram, ssd, price):\n",
    "        self.processor = processor\n",
    "        self.ram = ram\n",
    "        self.ssd = ssd\n",
    "        self.price = price\n",
    "\n",
    "    def view(self):\n",
    "        print(\n",
    "            f\"Processo:{self.processor}, RAM:{self.ram}, SSD:{self.ssd}, Price:{self.price}\")\n",
    "\n",
    "    def update_price(self, single_price):\n",
    "        self.price = single_price\n",
    "\n",
    "    def compair(self, cb):\n",
    "        if self.processor == cb.processor:\n",
    "            print(f\"Processor are same {self.processor}\")\n",
    "        elif self.ram == cb.ram:\n",
    "            print(f\"RAM are same {self.ram}\")\n",
    "        elif self.ssd == cb.ssd:\n",
    "            print(f\"SSD are same {self.ssd}\")\n",
    "        elif self.price == cb.price:\n",
    "            print(f\"Price are same {self.price}\")\n",
    "        else:\n",
    "            print(\"All are differnt!\")\n",
    "\n",
    "\n",
    "##############################################\n",
    "c1 = Computer(\"i5\", \"8GB\", \"120GB\", 5000)\n",
    "c2 = Computer(\"i7\", \"16GB\", \"256GB\", 7000)\n",
    "c1.update_price(6000)\n",
    "\n",
    "c1.view()\n",
    "c2.view()\n",
    "c1.compair(c2)"
   ]
  },
  {
   "cell_type": "code",
   "execution_count": 4,
   "metadata": {},
   "outputs": [
    {
     "name": "stdout",
     "output_type": "stream",
     "text": [
      "inside color list['Green', 'blue', 'Maroon', 'yellow']\n"
     ]
    },
    {
     "data": {
      "text/plain": [
       "['Green', 'blue', 'Maroon', 'yellow']"
      ]
     },
     "execution_count": 4,
     "metadata": {},
     "output_type": "execute_result"
    }
   ],
   "source": [
    "# pass by value , Pass by refferance\n",
    "\n",
    "class Cat:\n",
    "    def __init__(self, color, action):\n",
    "        self.color = color\n",
    "        self.action = action\n",
    "\n",
    "    def view(self, num, lists):\n",
    "        num = num + 5\n",
    "        listss = lists\n",
    "        listss[0] = \"Green\"\n",
    "        print(f'inside color list{lists}')\n",
    "\n",
    "\n",
    "c1 = Cat('Black', 'Jumping')\n",
    "colors = ['white', 'blue', 'Maroon', 'yellow']\n",
    "c1.view(50, colors)\n",
    "colors"
   ]
  },
  {
   "cell_type": "code",
   "execution_count": 15,
   "metadata": {},
   "outputs": [
    {
     "name": "stdout",
     "output_type": "stream",
     "text": [
      "80\n"
     ]
    }
   ],
   "source": [
    "class My_calculator:\n",
    "    def __init__(self):\n",
    "        pass\n",
    "\n",
    "    def Product(self, *nums):\n",
    "        sum = 1\n",
    "\n",
    "        for x in nums:\n",
    "            sum = sum * x\n",
    "        print(sum)\n",
    "\n",
    "\n",
    "####################################\n",
    "mc1 = My_calculator()\n",
    "mc1.Product(10, 2, 2, 2)"
   ]
  },
  {
   "cell_type": "code",
   "execution_count": 11,
   "metadata": {},
   "outputs": [
    {
     "name": "stdout",
     "output_type": "stream",
     "text": [
      "36\n",
      "72\n",
      "121212\n",
      "30\n"
     ]
    }
   ],
   "source": [
    "# Method OverLoading\n",
    "from multipledispatch import dispatch\n",
    "\n",
    "\n",
    "class my_calculator:\n",
    "    def __init__(self) -> None:\n",
    "        pass\n",
    "\n",
    "    @dispatch(int, int)\n",
    "    def sum(self, a, b):\n",
    "        print(a*b)\n",
    "\n",
    "    @dispatch(int, int, int)\n",
    "    def sum(self, a, b, c):\n",
    "        print(a*b*c)\n",
    "\n",
    "    @dispatch(str, int)\n",
    "    def sum(self, a, b):\n",
    "        print(a*b)\n",
    "\n",
    "    @dispatch(str, str)\n",
    "    def sum(self, a, b):\n",
    "        print(int(a)*int(b))\n",
    "\n",
    "\n",
    "c1 = my_calculator()\n",
    "c1.sum(12, 3)\n",
    "c1.sum(12, 3, 2)\n",
    "c1.sum(\"12\", 3)\n",
    "c1.sum(\"10\", \"3\")"
   ]
  },
  {
   "cell_type": "code",
   "execution_count": 13,
   "metadata": {},
   "outputs": [
    {
     "name": "stdout",
     "output_type": "stream",
     "text": [
      "20\n"
     ]
    }
   ],
   "source": [
    "#Method Overloading\n",
    "\n",
    "class My_calculator:\n",
    "    def __init__(self) -> None:\n",
    "        pass\n",
    "    \n",
    "    def sum(self, a, b):\n",
    "        print(a*b)\n",
    "        \n",
    "    def sum(self,a, b, c):\n",
    "        print(a*b*c)\n",
    "        \n",
    " #########################       \n",
    "c1 = My_calculator()\n",
    "c1.sum(10, 2)"
   ]
  },
  {
   "cell_type": "code",
   "execution_count": 20,
   "metadata": {},
   "outputs": [
    {
     "name": "stdout",
     "output_type": "stream",
     "text": [
      "60\n",
      "100\n",
      "this is x y mult\n",
      "16\n"
     ]
    }
   ],
   "source": [
    "#Method Overloading\n",
    "from multipledispatch import dispatch\n",
    "\n",
    "class My_calculator:\n",
    "    def __init__(self) -> None:\n",
    "        pass\n",
    "    \n",
    "    @dispatch(int, int)\n",
    "    def mult(self, a , b):\n",
    "        print(a*b)\n",
    "    \n",
    "    @dispatch(int, int, int)\n",
    "    def mult(self, a , b, c):\n",
    "        print(a*b*c)\n",
    "    \n",
    "    @dispatch(str, int)\n",
    "    def mult(self, x, y):\n",
    "        print(\"this is x y mult\")\n",
    "        print(int(x)*y)\n",
    "    \n",
    "\n",
    "c1 = My_calculator()\n",
    "c1.mult(2, 30)\n",
    "c1.mult(2, 5, 10 )\n",
    "c1.mult('4', 4)\n",
    "        \n",
    "    "
   ]
  },
  {
   "cell_type": "code",
   "execution_count": 32,
   "metadata": {},
   "outputs": [
    {
     "name": "stdout",
     "output_type": "stream",
     "text": [
      "True\n"
     ]
    }
   ],
   "source": [
    "#Operator Overloading\n",
    "class sum:\n",
    "    \n",
    "    def __init__(self,a,b) -> None:\n",
    "        self.a=a\n",
    "        self.b=b\n",
    "    \n",
    "    \n",
    "    # def __add__(self, other):\n",
    "    #     return self.a+ other.a\n",
    "    def __gt__(self, other):\n",
    "        if self.a > other.b:\n",
    "            return True\n",
    "        else:\n",
    "            return False\n",
    "     \n",
    "        \n",
    "        \n",
    "b1 = sum(10,6)\n",
    "b2 = sum (5,20)\n",
    "c = b1>b2\n",
    "print(c)\n",
    "\n",
    " "
   ]
  },
  {
   "cell_type": "code",
   "execution_count": 54,
   "metadata": {},
   "outputs": [
    {
     "name": "stdout",
     "output_type": "stream",
     "text": [
      "19\n",
      "True\n",
      "False\n"
     ]
    }
   ],
   "source": [
    "#Class Operator Overloading\n",
    "class Sum:\n",
    "    def __init__(self,a,b):\n",
    "        self.a = a\n",
    "        self.b = b\n",
    "    \n",
    "    def __add__(self, other):\n",
    "        return self.a + other.a\n",
    "    \n",
    "    def __gt__(self, other):\n",
    "        if self.a > other.a:\n",
    "            return True\n",
    "        else:\n",
    "            return False\n",
    "\n",
    "    \n",
    "    def __lt__(self, other):\n",
    "        return self.b<other.b\n",
    "    \n",
    "s1 = Sum(10, 35)\n",
    "s2 = Sum(9, 30)\n",
    "\n",
    "print(s1+s2)\n",
    "print(s1>s2)\n",
    "print(s1<s2)\n"
   ]
  }
 ],
 "metadata": {
  "kernelspec": {
   "display_name": "Python 3",
   "language": "python",
   "name": "python3"
  },
  "language_info": {
   "codemirror_mode": {
    "name": "ipython",
    "version": 3
   },
   "file_extension": ".py",
   "mimetype": "text/x-python",
   "name": "python",
   "nbconvert_exporter": "python",
   "pygments_lexer": "ipython3",
   "version": "3.8.10"
  }
 },
 "nbformat": 4,
 "nbformat_minor": 2
}
